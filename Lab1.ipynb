{
 "cells": [
  {
   "cell_type": "markdown",
   "id": "fifteen-sailing",
   "metadata": {
    "id": "fifteen-sailing"
   },
   "source": [
    "# Лабораторная работа №1\n",
    "## Выполнил студент группы ГРУППА ФИО"
   ]
  },
  {
   "cell_type": "markdown",
   "id": "particular-syndicate",
   "metadata": {
    "id": "particular-syndicate"
   },
   "source": [
    "### Оглавление\n",
    "1. [Задание 1](#Задание-№1)\n",
    "2. [Задание 2](#Задание-№2)\n",
    "3. [Задание 3](#Задание-№3)\n",
    "4. [Вывод](#Вывод)"
   ]
  },
  {
   "cell_type": "markdown",
   "id": "arctic-stocks",
   "metadata": {
    "id": "arctic-stocks"
   },
   "source": [
    "### Задание №1\n",
    "<i> Вызвать функцию print() и передать туда строку Hello, World! </i>"
   ]
  },
  {
   "cell_type": "code",
   "execution_count": 51,
   "id": "caring-truck",
   "metadata": {
    "id": "caring-truck",
    "scrolled": true
   },
   "outputs": [
    {
     "name": "stdout",
     "output_type": "stream",
     "text": [
      "Hello, world!\n"
     ]
    }
   ],
   "source": [
    "print(\"Hello, world!\")"
   ]
  },
  {
   "cell_type": "markdown",
   "id": "maritime-conversation",
   "metadata": {
    "id": "maritime-conversation"
   },
   "source": [
    "### Задание №2\n",
    "Написать генератор случайных матриц(многомерных), который принимает\n",
    "опциональные параметры <b>m</b>, <b>n</b>, <b>min_limit</b>, <b>max_limit</b>, где <b>m</b> и <b>n</b> указывают размер\n",
    "матрицы, а <b>min_lim</b> и <b>max_lim</b> - минимальное и максимальное значение для\n",
    "генерируемого числа."
   ]
  },
  {
   "cell_type": "code",
   "execution_count": 52,
   "id": "built-contact",
   "metadata": {
    "id": "built-contact"
   },
   "outputs": [
    {
     "name": "stdout",
     "output_type": "stream",
     "text": [
      "\n",
      "Матрица:\n",
      "[25, 9, 72, 35, 29, 72, 72, 46, 7, 1, 35, 48, 16, 48, 6]\n",
      "[83, 18, 5, 50, 48, 58, 53, 74, 29, 14, 27, 70, 85, 65, 55]\n",
      "[28, 36, 3, 83, 12, 68, 50, 13, 7, 2, 54, 61, 2, 17, 23]\n",
      "[28, 7, 76, 29, 12, 27, 77, 59, 63, 69, 5, 36, 11, 3, 5]\n",
      "[65, 2, 22, 36, 24, 24, 48, 70, 58, 20, 54, 75, 66, 53, 13]\n",
      "[12, 15, 76, 19, 73, 47, 84, 82, 36, 69, 5, 82, 22, 3, 60]\n",
      "[71, 77, 74, 15, 64, 76, 30, 62, 9, 20, 21, 73, 56, 14, 7]\n",
      "[12, 74, 21, 78, 55, 67, 59, 22, 48, 65, 40, 81, 59, 71, 60]\n",
      "[13, 14, 62, 51, 81, 47, 59, 6, 78, 79, 10, 13, 44, 23, 51]\n",
      "[77, 44, 12, 8, 61, 33, 36, 21, 51, 15, 16, 63, 6, 74, 73]\n"
     ]
    }
   ],
   "source": [
    "import random\n",
    "import time\n",
    "\n",
    "user_m = int(input(\"Введите количество строк матрицы (m): \"))\n",
    "user_n = int(input(\"Введите количество столбцов матрицы (n): \"))\n",
    "user_min_limit = int(input(\"Введите минимальное значение для элементов матрицы: \"))\n",
    "user_max_limit = int(input(\"Введите максимальное значение для элементов матрицы: \"))\n",
    "\n",
    "def generate_random_matrix(m, n, min_limit, max_limit):\n",
    "    return [[random.randint(min_limit, max_limit) for _ in range(n)] for _ in range(m)]\n",
    "\n",
    "matrix = generate_random_matrix(user_m, user_n, user_min_limit, user_max_limit)\n",
    "\n",
    "print(\"\\nМатрица:\")\n",
    "for row in matrix:\n",
    "    print(row)\n",
    "    \n"
   ]
  },
  {
   "cell_type": "markdown",
   "id": "catholic-roots",
   "metadata": {
    "id": "catholic-roots"
   },
   "source": [
    "### Задание №3\n",
    "Реализовать методы сортировки строк числовой матрицы в соответствии с\n",
    "заданием. Оценить время работы каждого алгоритма сортировки и сравнить его со\n",
    "временем стандартной функции сортировки. Испытания проводить на сгенерированных\n",
    "матрицах."
   ]
  },
  {
   "cell_type": "code",
   "execution_count": 53,
   "id": "opposed-creature",
   "metadata": {
    "id": "opposed-creature"
   },
   "outputs": [],
   "source": [
    "import copy"
   ]
  },
  {
   "cell_type": "code",
   "execution_count": 54,
   "id": "cleared-anniversary",
   "metadata": {
    "id": "cleared-anniversary",
    "outputId": "b7c76c60-4acb-4c14-9bfb-d4f8d71093a1"
   },
   "outputs": [
    {
     "name": "stdout",
     "output_type": "stream",
     "text": [
      "\n",
      "Матрица после сортировки с помощью selection_sort:\n",
      "[1, 6, 7, 9, 16, 25, 29, 35, 35, 46, 48, 48, 72, 72, 72]\n",
      "[5, 14, 18, 27, 29, 48, 50, 53, 55, 58, 65, 70, 74, 83, 85]\n",
      "[2, 2, 3, 7, 12, 13, 17, 23, 28, 36, 50, 54, 61, 68, 83]\n",
      "[3, 5, 5, 7, 11, 12, 27, 28, 29, 36, 59, 63, 69, 76, 77]\n",
      "[2, 13, 20, 22, 24, 24, 36, 48, 53, 54, 58, 65, 66, 70, 75]\n",
      "[3, 5, 12, 15, 19, 22, 36, 47, 60, 69, 73, 76, 82, 82, 84]\n",
      "[7, 9, 14, 15, 20, 21, 30, 56, 62, 64, 71, 73, 74, 76, 77]\n",
      "[12, 21, 22, 40, 48, 55, 59, 59, 60, 65, 67, 71, 74, 78, 81]\n",
      "[6, 10, 13, 13, 14, 23, 44, 47, 51, 51, 59, 62, 78, 79, 81]\n",
      "[6, 8, 12, 15, 16, 21, 33, 36, 44, 51, 61, 63, 73, 74, 77]\n"
     ]
    }
   ],
   "source": [
    "#Сортировка выбором.\n",
    "def selection_sort(matrix):\n",
    "    for row in matrix:\n",
    "        for i in range(len(row)):\n",
    "            min_idx = i\n",
    "            for j in range(i + 1, len(row)):\n",
    "                if row[j] < row[min_idx]:\n",
    "                    min_idx = j\n",
    "            row[i], row[min_idx] = row[min_idx], row[i]\n",
    "\n",
    "matrix_copy = copy.deepcopy(matrix)\n",
    "selection_sort(matrix_copy)\n",
    "\n",
    "print(\"\\nМатрица после сортировки с помощью selection_sort:\")\n",
    "for row in matrix_copy:\n",
    "    print(row)\n"
   ]
  },
  {
   "cell_type": "code",
   "execution_count": 55,
   "id": "roman-silly",
   "metadata": {
    "id": "roman-silly",
    "outputId": "84666b71-fb68-4c07-d27d-e716af29fcbb",
    "scrolled": true
   },
   "outputs": [
    {
     "name": "stdout",
     "output_type": "stream",
     "text": [
      "\n",
      "Матрица после сортировки с помощью insertion_sort:\n",
      "[1, 6, 7, 9, 16, 25, 29, 35, 35, 46, 48, 48, 72, 72, 72]\n",
      "[5, 14, 18, 27, 29, 48, 50, 53, 55, 58, 65, 70, 74, 83, 85]\n",
      "[2, 2, 3, 7, 12, 13, 17, 23, 28, 36, 50, 54, 61, 68, 83]\n",
      "[3, 5, 5, 7, 11, 12, 27, 28, 29, 36, 59, 63, 69, 76, 77]\n",
      "[2, 13, 20, 22, 24, 24, 36, 48, 53, 54, 58, 65, 66, 70, 75]\n",
      "[3, 5, 12, 15, 19, 22, 36, 47, 60, 69, 73, 76, 82, 82, 84]\n",
      "[7, 9, 14, 15, 20, 21, 30, 56, 62, 64, 71, 73, 74, 76, 77]\n",
      "[12, 21, 22, 40, 48, 55, 59, 59, 60, 65, 67, 71, 74, 78, 81]\n",
      "[6, 10, 13, 13, 14, 23, 44, 47, 51, 51, 59, 62, 78, 79, 81]\n",
      "[6, 8, 12, 15, 16, 21, 33, 36, 44, 51, 61, 63, 73, 74, 77]\n"
     ]
    }
   ],
   "source": [
    "#Сортировка вставкой.\n",
    "def insertion_sort(matrix):\n",
    "    for row in matrix:\n",
    "        for i in range(1, len(row)):\n",
    "            key = row[i]\n",
    "            j = i - 1\n",
    "            while j >= 0 and row[j] > key:\n",
    "                row[j + 1] = row[j]\n",
    "                j -= 1\n",
    "            row[j + 1] = key\n",
    "\n",
    "matrix_copy = copy.deepcopy(matrix)\n",
    "insertion_sort(matrix_copy)\n",
    "\n",
    "print(\"\\nМатрица после сортировки с помощью insertion_sort:\")\n",
    "for row in matrix_copy:\n",
    "    print(row)\n",
    "\n"
   ]
  },
  {
   "cell_type": "code",
   "execution_count": 56,
   "id": "vital-implementation",
   "metadata": {
    "id": "vital-implementation",
    "outputId": "7b648bf5-37a5-4d47-926d-b799f7a23be2"
   },
   "outputs": [
    {
     "name": "stdout",
     "output_type": "stream",
     "text": [
      "\n",
      "Матрица после сортировки с помощью bubble_sort:\n",
      "[1, 6, 7, 9, 16, 25, 29, 35, 35, 46, 48, 48, 72, 72, 72]\n",
      "[5, 14, 18, 27, 29, 48, 50, 53, 55, 58, 65, 70, 74, 83, 85]\n",
      "[2, 2, 3, 7, 12, 13, 17, 23, 28, 36, 50, 54, 61, 68, 83]\n",
      "[3, 5, 5, 7, 11, 12, 27, 28, 29, 36, 59, 63, 69, 76, 77]\n",
      "[2, 13, 20, 22, 24, 24, 36, 48, 53, 54, 58, 65, 66, 70, 75]\n",
      "[3, 5, 12, 15, 19, 22, 36, 47, 60, 69, 73, 76, 82, 82, 84]\n",
      "[7, 9, 14, 15, 20, 21, 30, 56, 62, 64, 71, 73, 74, 76, 77]\n",
      "[12, 21, 22, 40, 48, 55, 59, 59, 60, 65, 67, 71, 74, 78, 81]\n",
      "[6, 10, 13, 13, 14, 23, 44, 47, 51, 51, 59, 62, 78, 79, 81]\n",
      "[6, 8, 12, 15, 16, 21, 33, 36, 44, 51, 61, 63, 73, 74, 77]\n"
     ]
    }
   ],
   "source": [
    "#Сортировка пузырьком.\n",
    "def bubble_sort(matrix):\n",
    "    for row in matrix:\n",
    "        n = len(row)\n",
    "        for i in range(n):\n",
    "            for j in range(0, n - i - 1):\n",
    "                if row[j] > row[j + 1]:\n",
    "                    row[j], row[j + 1] = row[j + 1], row[j]\n",
    "                    \n",
    "matrix_copy = copy.deepcopy(matrix)\n",
    "bubble_sort(matrix_copy)\n",
    "\n",
    "print(\"\\nМатрица после сортировки с помощью bubble_sort:\")\n",
    "for row in matrix_copy:\n",
    "    print(row)"
   ]
  },
  {
   "cell_type": "code",
   "execution_count": 57,
   "id": "veterinary-glory",
   "metadata": {
    "id": "veterinary-glory",
    "outputId": "9cc2a9ff-ec7a-43de-e4a8-47945d030986"
   },
   "outputs": [
    {
     "name": "stdout",
     "output_type": "stream",
     "text": [
      "\n",
      "Матрица после сортировки с помощью shell_sort:\n",
      "[1, 6, 7, 9, 16, 25, 29, 35, 35, 46, 48, 48, 72, 72, 72]\n",
      "[5, 14, 18, 27, 29, 48, 50, 53, 55, 58, 65, 70, 74, 83, 85]\n",
      "[2, 2, 3, 7, 12, 13, 17, 23, 28, 36, 50, 54, 61, 68, 83]\n",
      "[3, 5, 5, 7, 11, 12, 27, 28, 29, 36, 59, 63, 69, 76, 77]\n",
      "[2, 13, 20, 22, 24, 24, 36, 48, 53, 54, 58, 65, 66, 70, 75]\n",
      "[3, 5, 12, 15, 19, 22, 36, 47, 60, 69, 73, 76, 82, 82, 84]\n",
      "[7, 9, 14, 15, 20, 21, 30, 56, 62, 64, 71, 73, 74, 76, 77]\n",
      "[12, 21, 22, 40, 48, 55, 59, 59, 60, 65, 67, 71, 74, 78, 81]\n",
      "[6, 10, 13, 13, 14, 23, 44, 47, 51, 51, 59, 62, 78, 79, 81]\n",
      "[6, 8, 12, 15, 16, 21, 33, 36, 44, 51, 61, 63, 73, 74, 77]\n"
     ]
    }
   ],
   "source": [
    "#Сортировка Шелла\n",
    "def shell_sort(matrix):\n",
    "    for row in matrix:\n",
    "        gap = len(row) // 2\n",
    "        while gap > 0:\n",
    "            for i in range(gap, len(row)):\n",
    "                temp = row[i]\n",
    "                j = i\n",
    "                while j >= gap and row[j - gap] > temp:\n",
    "                    row[j] = row[j - gap]\n",
    "                    j -= gap\n",
    "                row[j] = temp\n",
    "            gap //= 2\n",
    "\n",
    "matrix_copy = copy.deepcopy(matrix)\n",
    "shell_sort(matrix_copy)\n",
    "\n",
    "print(\"\\nМатрица после сортировки с помощью shell_sort:\")\n",
    "for row in matrix_copy:\n",
    "    print(row)"
   ]
  },
  {
   "cell_type": "code",
   "execution_count": 58,
   "id": "correct-chaos",
   "metadata": {
    "id": "correct-chaos",
    "outputId": "f4d9aef1-8a2f-46a0-def0-4c9e049f5c77"
   },
   "outputs": [
    {
     "name": "stdout",
     "output_type": "stream",
     "text": [
      "\n",
      "Матрица после сортировки с помощью quick_sort:\n",
      "[1, 6, 7, 9, 16, 25, 29, 35, 35, 46, 48, 48, 72, 72, 72]\n",
      "[5, 14, 18, 27, 29, 48, 50, 53, 55, 58, 65, 70, 74, 83, 85]\n",
      "[2, 2, 3, 7, 12, 13, 17, 23, 28, 36, 50, 54, 61, 68, 83]\n",
      "[3, 5, 5, 7, 11, 12, 27, 28, 29, 36, 59, 63, 69, 76, 77]\n",
      "[2, 13, 20, 22, 24, 24, 36, 48, 53, 54, 58, 65, 66, 70, 75]\n",
      "[3, 5, 12, 15, 19, 22, 36, 47, 60, 69, 73, 76, 82, 82, 84]\n",
      "[7, 9, 14, 15, 20, 21, 30, 56, 62, 64, 71, 73, 74, 76, 77]\n",
      "[12, 21, 22, 40, 48, 55, 59, 59, 60, 65, 67, 71, 74, 78, 81]\n",
      "[6, 10, 13, 13, 14, 23, 44, 47, 51, 51, 59, 62, 78, 79, 81]\n",
      "[6, 8, 12, 15, 16, 21, 33, 36, 44, 51, 61, 63, 73, 74, 77]\n"
     ]
    }
   ],
   "source": [
    "#быстрая сортировка.\n",
    "def quick_sort(matrix):\n",
    "    def quicksort(row):\n",
    "        if len(row) <= 1:\n",
    "            return row\n",
    "        pivot = row[len(row) // 2]\n",
    "        left = [x for x in row if x < pivot]\n",
    "        middle = [x for x in row if x == pivot]\n",
    "        right = [x for x in row if x > pivot]\n",
    "        return quicksort(left) + middle + quicksort(right)\n",
    "\n",
    "    for i in range(len(matrix)):\n",
    "        matrix[i] = quicksort(matrix[i])\n",
    "\n",
    "matrix_copy = copy.deepcopy(matrix)\n",
    "quick_sort(matrix_copy)\n",
    "\n",
    "print(\"\\nМатрица после сортировки с помощью quick_sort:\")\n",
    "for row in matrix_copy:\n",
    "    print(row)\n",
    "    "
   ]
  },
  {
   "cell_type": "code",
   "execution_count": 59,
   "id": "french-czech",
   "metadata": {
    "colab": {
     "base_uri": "https://localhost:8080/",
     "height": 217
    },
    "executionInfo": {
     "elapsed": 433,
     "status": "error",
     "timestamp": 1645638345253,
     "user": {
      "displayName": "Sergey Simonov",
      "photoUrl": "https://lh3.googleusercontent.com/a-/AOh14GhQdeIfzzsg8bfb7DLHaLzEFH8Ebg2FyuaL9YoQyA=s64",
      "userId": "14094206399671235086"
     },
     "user_tz": -180
    },
    "id": "french-czech",
    "outputId": "7e38b779-8bbf-4955-c3ad-2a6be0ee386a"
   },
   "outputs": [
    {
     "name": "stdout",
     "output_type": "stream",
     "text": [
      "\n",
      "Матрица после сортировки с помощью tournament_sort:\n",
      "[1, 6, 7, 9, 16, 25, 29, 35, 35, 46, 48, 48, 72, 72, 72]\n",
      "[5, 14, 18, 27, 29, 48, 50, 53, 55, 58, 65, 70, 74, 83, 85]\n",
      "[2, 2, 3, 7, 12, 13, 17, 23, 28, 36, 50, 54, 61, 68, 83]\n",
      "[3, 5, 5, 7, 11, 12, 27, 28, 29, 36, 59, 63, 69, 76, 77]\n",
      "[2, 13, 20, 22, 24, 24, 36, 48, 53, 54, 58, 65, 66, 70, 75]\n",
      "[3, 5, 12, 15, 19, 22, 36, 47, 60, 69, 73, 76, 82, 82, 84]\n",
      "[7, 9, 14, 15, 20, 21, 30, 56, 62, 64, 71, 73, 74, 76, 77]\n",
      "[12, 21, 22, 40, 48, 55, 59, 59, 60, 65, 67, 71, 74, 78, 81]\n",
      "[6, 10, 13, 13, 14, 23, 44, 47, 51, 51, 59, 62, 78, 79, 81]\n",
      "[6, 8, 12, 15, 16, 21, 33, 36, 44, 51, 61, 63, 73, 74, 77]\n"
     ]
    }
   ],
   "source": [
    "#турнирная сортировка\n",
    "def tournament_sort(matrix):\n",
    "    def tournament(row):\n",
    "        if len(row) <= 1:\n",
    "            return row\n",
    "        mid = len(row) // 2\n",
    "        left = tournament(row[:mid])\n",
    "        right = tournament(row[mid:])\n",
    "        return merge(left, right)\n",
    "\n",
    "    def merge(left, right):\n",
    "        result = []\n",
    "        while left and right:\n",
    "            if left[0] < right[0]:\n",
    "                result.append(left.pop(0))\n",
    "            else:\n",
    "                result.append(right.pop(0))\n",
    "        result.extend(left or right)\n",
    "        return result\n",
    "\n",
    "    for i in range(len(matrix)):\n",
    "        matrix[i] = tournament(matrix[i])\n",
    "\n",
    "matrix_copy = copy.deepcopy(matrix)\n",
    "tournament_sort(matrix_copy)\n",
    "\n",
    "print(\"\\nМатрица после сортировки с помощью tournament_sort:\")\n",
    "for row in matrix_copy:\n",
    "    print(row)\n"
   ]
  },
  {
   "cell_type": "code",
   "execution_count": 60,
   "id": "d7736be9",
   "metadata": {},
   "outputs": [
    {
     "name": "stdout",
     "output_type": "stream",
     "text": [
      "\n",
      "Матрица после сортировки с помощью standard_sort:\n",
      "[1, 6, 7, 9, 16, 25, 29, 35, 35, 46, 48, 48, 72, 72, 72]\n",
      "[5, 14, 18, 27, 29, 48, 50, 53, 55, 58, 65, 70, 74, 83, 85]\n",
      "[2, 2, 3, 7, 12, 13, 17, 23, 28, 36, 50, 54, 61, 68, 83]\n",
      "[3, 5, 5, 7, 11, 12, 27, 28, 29, 36, 59, 63, 69, 76, 77]\n",
      "[2, 13, 20, 22, 24, 24, 36, 48, 53, 54, 58, 65, 66, 70, 75]\n",
      "[3, 5, 12, 15, 19, 22, 36, 47, 60, 69, 73, 76, 82, 82, 84]\n",
      "[7, 9, 14, 15, 20, 21, 30, 56, 62, 64, 71, 73, 74, 76, 77]\n",
      "[12, 21, 22, 40, 48, 55, 59, 59, 60, 65, 67, 71, 74, 78, 81]\n",
      "[6, 10, 13, 13, 14, 23, 44, 47, 51, 51, 59, 62, 78, 79, 81]\n",
      "[6, 8, 12, 15, 16, 21, 33, 36, 44, 51, 61, 63, 73, 74, 77]\n"
     ]
    }
   ],
   "source": [
    "#Стандартная сортировка\n",
    "def standard_sort(matrix):\n",
    "    for i in range(len(matrix)):\n",
    "        matrix[i] = sorted(matrix[i])\n",
    "\n",
    "matrix_copy = copy.deepcopy(matrix)\n",
    "standard_sort(matrix_copy)\n",
    "\n",
    "print(\"\\nМатрица после сортировки с помощью standard_sort:\")\n",
    "for row in matrix_copy:\n",
    "    print(row)\n"
   ]
  },
  {
   "cell_type": "code",
   "execution_count": 61,
   "id": "5ca40e57",
   "metadata": {},
   "outputs": [
    {
     "name": "stdout",
     "output_type": "stream",
     "text": [
      "Время выполнения сортировок (в миллисекундах):\n",
      "selection_sort: 0.06 ms\n",
      "insertion_sort: 0.05 ms\n",
      "bubble_sort: 0.09 ms\n",
      "shell_sort: 0.05 ms\n",
      "quick_sort: 0.10 ms\n",
      "tournament_sort: 0.11 ms\n",
      "standard_sort: 0.01 ms\n"
     ]
    }
   ],
   "source": [
    "#Список алгоритмов сортировки\n",
    "algorithms = [\n",
    "    selection_sort,\n",
    "    insertion_sort,\n",
    "    bubble_sort,\n",
    "    shell_sort,\n",
    "    quick_sort,\n",
    "    tournament_sort,\n",
    "    standard_sort\n",
    "]\n",
    "\n",
    "execution_times = []\n",
    "for algorithm in algorithms:\n",
    "    matrix_copy = copy.deepcopy(matrix)\n",
    "    start_time = time.time()\n",
    "    algorithm(matrix_copy)\n",
    "    elapsed_time = round((time.time() - start_time) * 1000, 2)\n",
    "    execution_times.append(elapsed_time)\n",
    "        \n",
    "print(\"Время выполнения сортировок (в миллисекундах):\")\n",
    "for algo, time in zip(algorithms, execution_times):\n",
    "    print(f\"{algo.__name__}: {time:.2f} ms\")\n"
   ]
  },
  {
   "cell_type": "markdown",
   "id": "rental-jerusalem",
   "metadata": {
    "id": "rental-jerusalem"
   },
   "source": [
    "### Вывод\n"
   ]
  },
  {
   "cell_type": "markdown",
   "id": "9d108a0a",
   "metadata": {
    "id": "9d108a0a"
   },
   "source": [
    "Самым быстрым алгоритмом сортировки оказался стандартный метод sorted. Алгоритм с самым длительным временем выполнения — это турнирная сортировка.\n",
    "\n",
    "\n",
    "\n",
    "\n",
    "\n",
    "\n",
    "\n"
   ]
  }
 ],
 "metadata": {
  "colab": {
   "provenance": []
  },
  "kernelspec": {
   "display_name": "Python 3",
   "language": "python",
   "name": "python3"
  },
  "language_info": {
   "codemirror_mode": {
    "name": "ipython",
    "version": 3
   },
   "file_extension": ".py",
   "mimetype": "text/x-python",
   "name": "python",
   "nbconvert_exporter": "python",
   "pygments_lexer": "ipython3",
   "version": "3.9.6"
  }
 },
 "nbformat": 4,
 "nbformat_minor": 5
}
