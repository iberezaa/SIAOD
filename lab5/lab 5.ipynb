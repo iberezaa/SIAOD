{
 "cells": [
  {
   "cell_type": "markdown",
   "id": "db4b50f0",
   "metadata": {
    "id": "db4b50f0"
   },
   "source": [
    "# Лабораторная работа №5\n",
    "## Выполнил студент группы Берездовец Илья Сергеевич БПИ2303"
   ]
  },
  {
   "cell_type": "markdown",
   "id": "annual-symbol",
   "metadata": {
    "id": "annual-symbol"
   },
   "source": [
    "### Оглавление\n",
    "1. [Задание 1](#Задание-№1)\n",
    "2. [Задание 2](#Задание-№2)\n",
    "4. [Вывод](#Вывод)"
   ]
  },
  {
   "cell_type": "code",
   "execution_count": 6,
   "id": "4839be2b",
   "metadata": {
    "id": "4839be2b"
   },
   "outputs": [],
   "source": [
    "from datetime import datetime as t"
   ]
  },
  {
   "cell_type": "markdown",
   "id": "inclusive-motorcycle",
   "metadata": {
    "id": "inclusive-motorcycle"
   },
   "source": [
    "### Задание №1\n",
    "Реализовать методы поиска подстроки в строке. Добавить возможность ввода строки и подстроки с клавиатуры. Предусмотреть возможность существования пробела. Реализовать возможность выбора опции чувствительности или нечувствительности к регистру. Оценить время работы каждого алгоритма поиска и сравнить его со временем работы стандартной функции поиска, используемой в выбранном языке программирования."
   ]
  },
  {
   "cell_type": "markdown",
   "id": "interracial-communication",
   "metadata": {
    "id": "interracial-communication"
   },
   "source": [
    "#### Алгоритм Кнута-Морриса-Пратта"
   ]
  },
  {
   "cell_type": "code",
   "execution_count": 7,
   "id": "presidential-level",
   "metadata": {
    "id": "presidential-level"
   },
   "outputs": [
    {
     "name": "stdout",
     "output_type": "stream",
     "text": [
      "Подстрока найдена на позиции: 5\n"
     ]
    }
   ],
   "source": [
    "def KMP_search(text, pattern):\n",
    "    def compute_prefix_function(pattern):\n",
    "        m = len(pattern)\n",
    "        pi = [0] * m\n",
    "        k = 0\n",
    "        for i in range(1, m):\n",
    "            while k > 0 and pattern[k] != pattern[i]:\n",
    "                k = pi[k-1]\n",
    "            if pattern[k] == pattern[i]:\n",
    "                k += 1\n",
    "            pi[i] = k\n",
    "        return pi\n",
    "\n",
    "    pi = compute_prefix_function(pattern)\n",
    "    n, m = len(text), len(pattern)\n",
    "    k = 0\n",
    "\n",
    "    for i in range(n):\n",
    "        while k > 0 and pattern[k] != text[i]:\n",
    "            k = pi[k-1]\n",
    "        if pattern[k] == text[i]:\n",
    "            k += 1\n",
    "        if k == m:\n",
    "            return i - m + 1\n",
    "    return -1\n",
    "\n",
    "text = input(\"Введите строку: \")\n",
    "pattern = input(\"Введите подстроку: \")\n",
    "result = KMP_search(text, pattern)\n",
    "if result != -1:\n",
    "    print(f\"Подстрока найдена на позиции: {result}\")\n",
    "else:\n",
    "    print(\"Подстрока не найдена\")"
   ]
  },
  {
   "cell_type": "markdown",
   "id": "downtown-option",
   "metadata": {
    "id": "downtown-option"
   },
   "source": [
    "#### Упрощенный алгоритм Бойера-Мура"
   ]
  },
  {
   "cell_type": "code",
   "execution_count": null,
   "id": "respective-reggae",
   "metadata": {
    "id": "respective-reggae"
   },
   "outputs": [
    {
     "name": "stdout",
     "output_type": "stream",
     "text": [
      "Подстрока найдена на позиции: 8\n"
     ]
    }
   ],
   "source": [
    "def Boyer_Moore_search(text, pattern):\n",
    "    def create_bad_character_table(pattern):\n",
    "        table = {}\n",
    "        for i in range(len(pattern) - 1):\n",
    "            table[pattern[i]] = len(pattern) - i - 1\n",
    "        return table\n",
    "\n",
    "    n, m = len(text), len(pattern)\n",
    "    bad_char_table = create_bad_character_table(pattern)\n",
    "    i = 0\n",
    "\n",
    "    while i <= n - m:\n",
    "        j = m - 1\n",
    "        while j >= 0 and pattern[j] == text[i + j]:\n",
    "            j -= 1\n",
    "        if j < 0:\n",
    "            return i\n",
    "        else:\n",
    "            i += bad_char_table.get(text[i + m - 1], len(pattern))\n",
    "\n",
    "    return -1\n",
    "\n",
    "text = input(\"Введите строку: \")\n",
    "pattern = input(\"Введите подстроку: \")\n",
    "result = Boyer_Moore_search(text, pattern)\n",
    "\n",
    "if result != -1:\n",
    "    print(f\"Подстрока найдена на позиции: {result}\")\n",
    "else:\n",
    "    print(\"Подстрока не найдена\")\n"
   ]
  },
  {
   "cell_type": "markdown",
   "id": "hybrid-memorial",
   "metadata": {
    "id": "hybrid-memorial"
   },
   "source": [
    "### Задание №2\n",
    "Написать программу, определяющую, является ли данное\n",
    "расположение «решаемым», то есть можно ли из него за конечное число\n",
    "шагов перейти к правильному. Если это возможно, то необходимо найти хотя\n",
    "бы одно решение - последовательность движений, после которой числа будут\n",
    "расположены в правильном порядке.\n",
    "#### Входные данные: массив чисел, представляющий собой расстановку в\n",
    "Порядке «слева направо, сверху вниз». Число 0 обозначает пустое поле.\n",
    "Например, массив [1, 2, 3, 4, 5, 6, 7, 8, 9, 10, 11, 12, 13, 14, 15, 0] представляет\n",
    "собой «решенную» позицию элементов.\n",
    "#### Выходные данные: если решения нет, то функция должна вернуть\n",
    "Пустой массив []. Если решение есть, то необходимо представить решение —\n",
    "для каждого шага записывается номер передвигаемого на данном шаге\n",
    "элемента. "
   ]
  },
  {
   "cell_type": "code",
   "execution_count": 9,
   "id": "eleven-generic",
   "metadata": {
    "id": "eleven-generic"
   },
   "outputs": [
    {
     "name": "stdout",
     "output_type": "stream",
     "text": [
      "Решение найдено!\n",
      "Последовательность движений: [14, 10, 11, 15, 10, 14, 12, 11, 15, 10, 14, 15, 11, 12]\n"
     ]
    }
   ],
   "source": [
    "from collections import deque\n",
    "\n",
    "def is_solvable(puzzle):\n",
    "    puzzle = [x for x in puzzle if x != 0]\n",
    "    inversions = 0\n",
    "    for i in range(len(puzzle)):\n",
    "        for j in range(i + 1, len(puzzle)):\n",
    "            if puzzle[i] > puzzle[j]:\n",
    "                inversions += 1\n",
    "    return inversions % 2 == 0\n",
    "\n",
    "def get_neighbors(pos):\n",
    "    x, y = pos\n",
    "    moves = [(0, 1), (0, -1), (1, 0), (-1, 0)]\n",
    "    return [(x + dx, y + dy) for dx, dy in moves if 0 <= x + dx < 4 and 0 <= y + dy < 4]\n",
    "\n",
    "def solve_puzzle(puzzle):\n",
    "    if not is_solvable(puzzle):\n",
    "        return []\n",
    "\n",
    "    goal = [1, 2, 3, 4, 5, 6, 7, 8, 9, 10, 11, 12, 13, 14, 15, 0]\n",
    "    puzzle_1d = puzzle[:]\n",
    "\n",
    "    if puzzle_1d == goal:\n",
    "        return []\n",
    "\n",
    "    queue = deque([(puzzle_1d, [])])\n",
    "    visited = set()\n",
    "\n",
    "    while queue:\n",
    "        state, path = queue.popleft()\n",
    "        if state == goal:\n",
    "            return path\n",
    "\n",
    "        zero_pos = state.index(0)\n",
    "        zero_x, zero_y = zero_pos // 4, zero_pos % 4\n",
    "\n",
    "        for new_x, new_y in get_neighbors((zero_x, zero_y)):\n",
    "            new_zero_pos = new_x * 4 + new_y\n",
    "            new_state = state[:]\n",
    "            new_state[zero_pos], new_state[new_zero_pos] = new_state[new_zero_pos], new_state[zero_pos]\n",
    "\n",
    "            if str(new_state) not in visited:\n",
    "                visited.add(str(new_state))\n",
    "                queue.append((new_state, path + [state[new_zero_pos]]))\n",
    "\n",
    "    return []\n",
    "\n",
    "puzzle = [\n",
    "    1, 2, 3, 4,\n",
    "    5, 6, 7, 8,\n",
    "    9, 11, 10, 12,\n",
    "    13, 15, 14, 0\n",
    "]\n",
    "\n",
    "solution = solve_puzzle(puzzle)\n",
    "if solution:\n",
    "    print(\"Решение найдено!\")\n",
    "    print(\"Последовательность движений:\", solution)\n",
    "else:\n",
    "    print(\"Решение невозможно\")\n"
   ]
  }
 ],
 "metadata": {
  "colab": {
   "provenance": []
  },
  "kernelspec": {
   "display_name": "venv",
   "language": "python",
   "name": "python3"
  },
  "language_info": {
   "codemirror_mode": {
    "name": "ipython",
    "version": 3
   },
   "file_extension": ".py",
   "mimetype": "text/x-python",
   "name": "python",
   "nbconvert_exporter": "python",
   "pygments_lexer": "ipython3",
   "version": "3.9.6"
  }
 },
 "nbformat": 4,
 "nbformat_minor": 5
}
